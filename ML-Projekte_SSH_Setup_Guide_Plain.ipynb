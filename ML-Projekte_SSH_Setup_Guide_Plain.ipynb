{
 "cells": [
  {
   "cell_type": "markdown",
   "id": "d164931c",
   "metadata": {},
   "source": [
    "# ML-Projekte SSH Setup Guide\n",
    "This notebook explains how to configure Git and SSH on Windows so team members can securely push and pull code from GitHub without entering a password each time.\n",
    "\n",
    "Follow the steps in order. Each section includes explanations and ready-to-run commands."
   ]
  },
  {
   "cell_type": "markdown",
   "id": "170eac74",
   "metadata": {},
   "source": [
    "## Step 1 – Install Git\n",
    "Download Git from https://git-scm.com/downloads.\n",
    "During installation, enable Git Bash and OpenSSH.\n",
    "\n",
    "Check installation:\n",
    "```bash\n",
    "git --version\n",
    "```"
   ]
  },
  {
   "cell_type": "markdown",
   "id": "12aee0ba",
   "metadata": {},
   "source": [
    "## Step 2 – Configure Your Git Identity\n",
    "Set username and email linked to your GitHub account:\n",
    "```bash\n",
    "git config --global user.name \"Your Name\"\n",
    "git config --global user.email \"your.email@example.com\"\n",
    "```\n",
    "Verify settings:\n",
    "```bash\n",
    "git config --list\n",
    "```"
   ]
  },
  {
   "cell_type": "markdown",
   "id": "782dd10e",
   "metadata": {},
   "source": [
    "## Step 3 – Generate SSH Key\n",
    "Generate a secure SSH key pair:\n",
    "```bash\n",
    "ssh-keygen -t ed25519 -C \"your.email@example.com\"\n",
    "```\n",
    "Press Enter to accept defaults.\n",
    "Leave passphrase empty to simplify setup.\n",
    "This creates two files:\n",
    "- id_ed25519 (private key)\n",
    "- id_ed25519.pub (public key)"
   ]
  },
  {
   "cell_type": "markdown",
   "id": "52a561f8",
   "metadata": {},
   "source": [
    "## Step 4 – Add the SSH Key to GitHub\n",
    "1. Display your public key:\n",
    "```bash\n",
    "cat ~/.ssh/id_ed25519.pub\n",
    "```\n",
    "2. Copy the key (starts with ssh-ed25519).\n",
    "3. Go to GitHub -> Settings -> SSH and GPG keys -> New SSH key.\n",
    "4. Paste the key, give it a name, and save."
   ]
  },
  {
   "cell_type": "markdown",
   "id": "a1965a7c",
   "metadata": {},
   "source": [
    "## Step 5 – Start SSH Agent (Windows)\n",
    "Run these commands in PowerShell (Administrator):\n",
    "```powershell\n",
    "Get-Service ssh-agent | Set-Service -StartupType Automatic\n",
    "Start-Service ssh-agent\n",
    "```\n",
    "Then add your key:\n",
    "```bash\n",
    "ssh-add ~/.ssh/id_ed25519\n",
    "```\n",
    "If no passphrase was set, it will be added immediately."
   ]
  },
  {
   "cell_type": "markdown",
   "id": "78d860ae",
   "metadata": {},
   "source": [
    "## Step 6 – Test the Connection\n",
    "Check that GitHub recognizes your key:\n",
    "```bash\n",
    "ssh -T git@github.com\n",
    "```\n",
    "Expected output:\n",
    "```\n",
    "Hi <username>! You've successfully authenticated, but GitHub does not provide shell access.\n",
    "```"
   ]
  },
  {
   "cell_type": "markdown",
   "id": "543bd11c",
   "metadata": {},
   "source": [
    "## Step 7 – Connect or Clone Your Project\n",
    "To clone a repository using SSH:\n",
    "```bash\n",
    "git clone git@github.com:ML-Projekte/Sea-Animals-Image-DatasetProject.git\n",
    "```\n",
    "If you already have a local folder:\n",
    "```bash\n",
    "git remote remove origin\n",
    "git remote add origin git@github.com:ML-Projekte/Sea-Animals-Image-DatasetProject.git\n",
    "```\n",
    "Then push your changes:\n",
    "```bash\n",
    "git add .\n",
    "git commit -m \"Initial commit\"\n",
    "git push -u origin main\n",
    "```"
   ]
  },
  {
   "cell_type": "markdown",
   "id": "0766131d",
   "metadata": {},
   "source": [
    "## Step 8 – Verify Everything\n",
    "Check your SSH and remote setup:\n",
    "```bash\n",
    "git remote -v\n",
    "ssh-add -l\n",
    "```\n",
    "You should see your repository URL and SSH key listed.\n",
    "Now all Git operations (push, pull, etc.) will work password-free."
   ]
  },
  {
   "cell_type": "markdown",
   "id": "ad18588a",
   "metadata": {},
   "source": [
    "---\n",
    "### Notes for the Team\n",
    "- Never share your private key (id_ed25519).\n",
    "- Generate separate keys for different devices.\n",
    "- Always use SSH links for repositories:\n",
    "```\n",
    "git@github.com:ML-Projekte/Sea-Animals-Image-DatasetProject.git\n",
    "```\n",
    "---\n",
    "You are now fully set up to use GitHub with SSH securely."
   ]
  }
 ],
 "metadata": {
  "kernelspec": {
   "display_name": "Python 3",
   "language": "python",
   "name": "python3"
  }
 },
 "nbformat": 4,
 "nbformat_minor": 5
}
