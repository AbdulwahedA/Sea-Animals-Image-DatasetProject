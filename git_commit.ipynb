{
 "cells": [
  {
   "cell_type": "markdown",
   "id": "951df3c6",
   "metadata": {},
   "source": [
    " \n",
    "**Create a New Project and Initialize Git**  \n",
    "\n",
    "\n",
    "This section creates a new project folder and initializes Git for version control.\n"
   ]
  },
  {
   "cell_type": "code",
   "execution_count": null,
   "id": "9620ae29",
   "metadata": {},
   "outputs": [],
   "source": [
    "\n",
    "mkdir \"Sea Animals Image DatasetProject\"\n",
    "cd \"Sea Animals Image DatasetProject\"\n",
    "\n",
    "\n",
    "git init\n",
    "\n",
    "\n",
    "echo \"# Sea Animals Image Dataset Project\" > README.md\n",
    "echo \"*.jpg\" >> .gitignore\n",
    "echo \"*.png\" >> .gitignore\n",
    "\n",
    "\n",
    "git add .\n",
    "git commit -m \"Initial commit - Sea Animals Image Dataset Project\"\n"
   ]
  },
  {
   "cell_type": "markdown",
   "id": "5fb175be",
   "metadata": {},
   "source": [
    "\n",
    " \n",
    "**Connect the Local Project to GitHub**  \n",
    "\n",
    "This part connects your local repository to GitHub so you can push your project online.\n"
   ]
  },
  {
   "cell_type": "code",
   "execution_count": null,
   "id": "8aa0c852",
   "metadata": {},
   "outputs": [],
   "source": [
    "\n",
    "git remote add origin git@github.com:AbdulwahedA/Sea-Animals-Image-DatasetProject.git\n",
    "\n",
    "\n",
    "git branch -M main\n",
    "\n",
    "\n",
    "git push -u origin main\n"
   ]
  },
  {
   "cell_type": "markdown",
   "id": "b01523da",
   "metadata": {},
   "source": [
    "\n",
    "\n",
    "**Daily Update Commands**  \n",
    "\n",
    "This section covers daily Git commands like checking status, adding files, and committing changes.\n"
   ]
  },
  {
   "cell_type": "code",
   "execution_count": null,
   "id": "176cdf3a",
   "metadata": {},
   "outputs": [],
   "source": [
    "\n",
    "git status\n",
    "\n",
    "\n",
    "git add .\n",
    "\n",
    "\n",
    "git commit -m\n",
    "\n",
    "\n",
    "git push\n"
   ]
  },
  {
   "cell_type": "markdown",
   "id": "de3bac9d",
   "metadata": {},
   "source": [
    "\n",
    "\n",
    "**Clone a Project from GitHub**  \n",
    "\n",
    " \n",
    "This section shows how to clone an existing GitHub repository to your local machine.\n"
   ]
  },
  {
   "cell_type": "code",
   "execution_count": null,
   "id": "d61e9ec1",
   "metadata": {},
   "outputs": [],
   "source": [
    "\n",
    "git clone git@github.com:AbdulwahedA/Sea-Animals-Image-DatasetProject.git\n"
   ]
  },
  {
   "cell_type": "markdown",
   "id": "29b4dac5",
   "metadata": {},
   "source": [
    "\n",
    " \n",
    "**Update Local Project After Remote Changes**  \n",
    "\n",
    "  \n",
    "This section fetches the latest updates from GitHub into your local project.\n"
   ]
  },
  {
   "cell_type": "code",
   "execution_count": null,
   "id": "48eb5433",
   "metadata": {},
   "outputs": [],
   "source": [
    "\n",
    "git pull\n"
   ]
  }
 ],
 "metadata": {
  "language_info": {
   "name": "python"
  }
 },
 "nbformat": 4,
 "nbformat_minor": 5
}
