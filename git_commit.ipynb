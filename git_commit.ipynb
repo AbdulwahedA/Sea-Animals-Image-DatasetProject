{
 "cells": [
  {
   "cell_type": "markdown",
   "id": "951df3c6",
   "metadata": {},
   "source": [
    "\n",
    "### 🧱 القسم 1: إنشاء مشروع جديد وربطه بـ Git  \n",
    "**Create a New Project and Initialize Git**  \n",
    "\n",
    "📘 هذا الجزء لإنشاء مجلد مشروع جديد وتهيئته باستخدام Git للمرة الأولى.  \n",
    "This section creates a new project folder and initializes Git for version control.\n"
   ]
  },
  {
   "cell_type": "code",
   "execution_count": null,
   "id": "9620ae29",
   "metadata": {},
   "outputs": [],
   "source": [
    "# إنشاء مجلد جديد للمشروع\n",
    "mkdir \"Sea Animals Image DatasetProject\"\n",
    "cd \"Sea Animals Image DatasetProject\"\n",
    "\n",
    "# تهيئة مجلد Git\n",
    "git init\n",
    "\n",
    "# إنشاء ملفات أولية\n",
    "echo \"# Sea Animals Image Dataset Project\" > README.md\n",
    "echo \"*.jpg\" >> .gitignore\n",
    "echo \"*.png\" >> .gitignore\n",
    "\n",
    "# إضافة الملفات للمرة الأولى\n",
    "git add .\n",
    "git commit -m \"Initial commit - Sea Animals Image Dataset Project\"\n"
   ]
  },
  {
   "cell_type": "markdown",
   "id": "5fb175be",
   "metadata": {},
   "source": [
    "\n",
    "### 🌐 القسم 2: ربط المشروع مع GitHub  \n",
    "**Connect the Local Project to GitHub**  \n",
    "\n",
    "🔗 هذا الجزء لربط المستودع المحلي مع GitHub حتى يتمكن من رفع المشروع.  \n",
    "This part connects your local repository to GitHub so you can push your project online.\n"
   ]
  },
  {
   "cell_type": "code",
   "execution_count": null,
   "id": "8aa0c852",
   "metadata": {},
   "outputs": [],
   "source": [
    "# ربط المستودع المحلي مع GitHub (SSH)\n",
    "git remote add origin git@github.com:AbdulwahedA/Sea-Animals-Image-DatasetProject.git\n",
    "\n",
    "# تغيير اسم الفرع إلى main\n",
    "git branch -M main\n",
    "\n",
    "# رفع المشروع إلى GitHub\n",
    "git push -u origin main\n"
   ]
  },
  {
   "cell_type": "markdown",
   "id": "b01523da",
   "metadata": {},
   "source": [
    "\n",
    "### 🔄 القسم 3: أوامر التحديثات اليومية  \n",
    "**Daily Update Commands**  \n",
    "\n",
    "🧰 هذا الجزء يحتوي على أوامر التعامل اليومي مثل التحقق من الحالة، إضافة الملفات، وإنشاء commit جديد.  \n",
    "This section covers daily Git commands like checking status, adding files, and committing changes.\n"
   ]
  },
  {
   "cell_type": "code",
   "execution_count": null,
   "id": "176cdf3a",
   "metadata": {},
   "outputs": [],
   "source": [
    "# التحقق من حالة الملفات\n",
    "git status\n",
    "\n",
    "# إضافة جميع الملفات المعدلة\n",
    "git add .\n",
    "\n",
    "# إنشاء commit جديد مع رسالة\n",
    "git commit -m \"شرح التعديلات الجديدة\"\n",
    "\n",
    "# رفع التغييرات إلى GitHub\n",
    "git push\n"
   ]
  },
  {
   "cell_type": "markdown",
   "id": "de3bac9d",
   "metadata": {},
   "source": [
    "\n",
    "### ⬇️ القسم 4: تنزيل المشروع من GitHub  \n",
    "**Clone a Project from GitHub**  \n",
    "\n",
    "📦 هذا الجزء يستخدم لاستنساخ مشروع موجود على GitHub إلى جهازك المحلي.  \n",
    "This section shows how to clone an existing GitHub repository to your local machine.\n"
   ]
  },
  {
   "cell_type": "code",
   "execution_count": null,
   "id": "d61e9ec1",
   "metadata": {},
   "outputs": [],
   "source": [
    "# استنساخ مشروع من GitHub\n",
    "git clone git@github.com:AbdulwahedA/Sea-Animals-Image-DatasetProject.git\n"
   ]
  },
  {
   "cell_type": "markdown",
   "id": "29b4dac5",
   "metadata": {},
   "source": [
    "\n",
    "### 🧹 القسم 5: تحديث مشروع محلي بعد تعديل على GitHub  \n",
    "**Update Local Project After Remote Changes**  \n",
    "\n",
    "🔄 هذا الجزء يستخدم لجلب التحديثات الأخيرة من GitHub إلى جهازك المحلي.  \n",
    "This section fetches the latest updates from GitHub into your local project.\n"
   ]
  },
  {
   "cell_type": "code",
   "execution_count": null,
   "id": "48eb5433",
   "metadata": {},
   "outputs": [],
   "source": [
    "# سحب آخر التحديثات من GitHub\n",
    "git pull\n"
   ]
  }
 ],
 "metadata": {},
 "nbformat": 4,
 "nbformat_minor": 5
}
